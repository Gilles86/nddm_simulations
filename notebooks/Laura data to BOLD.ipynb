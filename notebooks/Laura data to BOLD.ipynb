{
 "cells": [
  {
   "cell_type": "code",
   "execution_count": 1,
   "metadata": {},
   "outputs": [],
   "source": [
    "import pandas\n",
    "import nipy\n",
    "from nipy.modalities.fmri import hrf"
   ]
  },
  {
   "cell_type": "code",
   "execution_count": 2,
   "metadata": {},
   "outputs": [],
   "source": [
    "df = pandas.read_csv('data/sim-data_drift-SP-variability-estim-onep.csv', index_col=0)"
   ]
  },
  {
   "cell_type": "code",
   "execution_count": 3,
   "metadata": {
    "collapsed": true
   },
   "outputs": [],
   "source": [
    "import numpy as np"
   ]
  },
  {
   "cell_type": "code",
   "execution_count": 4,
   "metadata": {},
   "outputs": [],
   "source": [
    "df['onset'] = np.arange(10, len(df)*10 + 1, 10)"
   ]
  },
  {
   "cell_type": "code",
   "execution_count": 5,
   "metadata": {},
   "outputs": [],
   "source": [
    "def get_bold_response(df, method='time_on_task',\n",
    "                      sample_rate=1000):\n",
    "    \n",
    "    neural_signal = np.zeros((df.onset.max() + 20) * sample_rate)\n",
    "    \n",
    "    hrf = nipy.modalities.fmri.hrf.spm_hrf_compat(np.arange(0, 20, 1./sample_rate))\n",
    "    \n",
    "    for ix, row in df.iterrows():\n",
    "        \n",
    "        if method == 'time_on_task':\n",
    "            start_idx = int(row.onset * sample_rate)\n",
    "            end_idx = int((row.onset + row.rt)*sample_rate)\n",
    "            value = 1\n",
    "            \n",
    "        elif method == 'time_on_task':\n",
    "            start_idx = int(row.onset * sample_rate)\n",
    "            end_idx = int((row.onset + row.rt)*sample_rate)\n",
    "            value = 1            \n",
    "        \n",
    "        neural_signal[start_idx:end_idx] = value\n",
    "    \n",
    "    bold_signal = np.convolve(hrf, neural_signal)\n",
    "    \n",
    "    return neural_signal, bold_signal\n",
    "    \n",
    "    "
   ]
  },
  {
   "cell_type": "markdown",
   "metadata": {},
   "source": [
    "# Time on task"
   ]
  },
  {
   "cell_type": "code",
   "execution_count": null,
   "metadata": {
    "collapsed": true
   },
   "outputs": [],
   "source": [
    "\n",
    "\n",
    "import matplotlib.pyplot as plt\n",
    "%matplotlib inline"
   ]
  },
  {
   "cell_type": "code",
   "execution_count": 41,
   "metadata": {
    "collapsed": true
   },
   "outputs": [],
   "source": [
    "sample_rate = 100"
   ]
  },
  {
   "cell_type": "code",
   "execution_count": 42,
   "metadata": {},
   "outputs": [],
   "source": [
    "neural_signal, bold_signal = get_bold_response(df, sample_rate=sample_rate)"
   ]
  },
  {
   "cell_type": "code",
   "execution_count": 43,
   "metadata": {
    "collapsed": true
   },
   "outputs": [],
   "source": [
    "from nipy.modalities.fmri.experimental_paradigm import EventRelatedParadigm"
   ]
  },
  {
   "cell_type": "code",
   "execution_count": 44,
   "metadata": {},
   "outputs": [],
   "source": [
    "paradigm = EventRelatedParadigm(['trial %d' % (ix+1) for ix in df.index], df.onset.tolist())"
   ]
  },
  {
   "cell_type": "code",
   "execution_count": 45,
   "metadata": {
    "collapsed": true
   },
   "outputs": [],
   "source": [
    "from scipy import signal"
   ]
  },
  {
   "cell_type": "code",
   "execution_count": 46,
   "metadata": {
    "collapsed": true
   },
   "outputs": [],
   "source": [
    "tr = 2.0"
   ]
  },
  {
   "cell_type": "code",
   "execution_count": 47,
   "metadata": {},
   "outputs": [
    {
     "data": {
      "text/plain": [
       "40079.98"
      ]
     },
     "execution_count": 47,
     "metadata": {},
     "output_type": "execute_result"
    }
   ],
   "source": [
    "len(bold_signal) / sample_rate * tr"
   ]
  },
  {
   "cell_type": "code",
   "execution_count": 48,
   "metadata": {
    "collapsed": true
   },
   "outputs": [],
   "source": [
    "bold_signal = signal.resample_poly(bold_signal, 1, sample_rate * tr)"
   ]
  },
  {
   "cell_type": "code",
   "execution_count": 49,
   "metadata": {
    "collapsed": true
   },
   "outputs": [],
   "source": [
    "import nipy.modalities.fmri.design_matrix as dm\n"
   ]
  },
  {
   "cell_type": "code",
   "execution_count": 87,
   "metadata": {},
   "outputs": [],
   "source": [
    "n_scans = len(bold_signal)\n",
    "\n",
    "# paradigm\n",
    "frametimes = np.linspace(0, (n_scans - 1) * tr, n_scans)\n",
    "\n",
    "# confounds\n",
    "hrf_model = 'canonical'\n",
    "drift_model = \"polynomial\"\n",
    "\n",
    "X, names = dm.dmtx_light(frametimes, paradigm, drift_model=drift_model, drift_order=0, hrf_model=hrf_model)"
   ]
  },
  {
   "cell_type": "code",
   "execution_count": 88,
   "metadata": {},
   "outputs": [],
   "source": [
    "import statsmodels.api as sm"
   ]
  },
  {
   "cell_type": "code",
   "execution_count": 89,
   "metadata": {
    "collapsed": true
   },
   "outputs": [],
   "source": [
    "model = sm.OLS(bold_signal, pandas.DataFrame(X, columns=names))"
   ]
  },
  {
   "cell_type": "code",
   "execution_count": 90,
   "metadata": {},
   "outputs": [],
   "source": [
    "results = model.fit()"
   ]
  },
  {
   "cell_type": "code",
   "execution_count": 110,
   "metadata": {},
   "outputs": [],
   "source": [
    "single_trial_betas = pandas.DataFrame(results.params).reset_index()\n",
    "single_trial_betas = single_trial_betas.drop(2000)\n",
    "single_trial_betas = single_trial_betas.rename(columns={0:'beta'})\n",
    "single_trial_betas['trial'] = single_trial_betas['index'].apply(lambda x: int(x.split()[-1]))"
   ]
  },
  {
   "cell_type": "code",
   "execution_count": 115,
   "metadata": {},
   "outputs": [],
   "source": [
    "df = df.merge(single_trial_betas, on='trial')"
   ]
  },
  {
   "cell_type": "code",
   "execution_count": 116,
   "metadata": {},
   "outputs": [],
   "source": [
    "df.to_csv('data/sim-data_drift-SP-variability-estim-onep_time_on_task_beta.csv')"
   ]
  },
  {
   "cell_type": "code",
   "execution_count": 117,
   "metadata": {
    "collapsed": true
   },
   "outputs": [],
   "source": [
    "import seaborn as sns"
   ]
  },
  {
   "cell_type": "code",
   "execution_count": null,
   "metadata": {
    "collapsed": true
   },
   "outputs": [],
   "source": [
    "sns.lmplot('beta', 'rt')"
   ]
  },
  {
   "cell_type": "markdown",
   "metadata": {},
   "source": [
    "# time_on_task * drift"
   ]
  },
  {
   "cell_type": "code",
   "execution_count": null,
   "metadata": {
    "collapsed": true
   },
   "outputs": [],
   "source": []
  }
 ],
 "metadata": {
  "kernelspec": {
   "display_name": "Python 3",
   "language": "python",
   "name": "python3"
  },
  "language_info": {
   "codemirror_mode": {
    "name": "ipython",
    "version": 3
   },
   "file_extension": ".py",
   "mimetype": "text/x-python",
   "name": "python",
   "nbconvert_exporter": "python",
   "pygments_lexer": "ipython3",
   "version": "3.6.1"
  }
 },
 "nbformat": 4,
 "nbformat_minor": 2
}
