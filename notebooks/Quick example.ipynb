{
 "cells": [
  {
   "cell_type": "code",
   "execution_count": 1,
   "metadata": {
    "collapsed": true
   },
   "outputs": [],
   "source": [
    "import pandas\n",
    "import nipy\n",
    "from nipy.modalities.fmri import hrf"
   ]
  },
  {
   "cell_type": "code",
   "execution_count": 2,
   "metadata": {
    "collapsed": true
   },
   "outputs": [],
   "source": [
    "df = pandas.read_csv('data/sim-data_drift-SP-variability-estim-onep.csv', index_col=0)"
   ]
  },
  {
   "cell_type": "code",
   "execution_count": 3,
   "metadata": {
    "collapsed": true
   },
   "outputs": [],
   "source": [
    "import numpy as np"
   ]
  },
  {
   "cell_type": "code",
   "execution_count": 4,
   "metadata": {
    "collapsed": true
   },
   "outputs": [],
   "source": [
    "df['onset'] = np.arange(10, len(df)*10 + 1, 10)"
   ]
  },
  {
   "cell_type": "code",
   "execution_count": 5,
   "metadata": {
    "collapsed": true
   },
   "outputs": [],
   "source": [
    "df = df.iloc[:5]"
   ]
  },
  {
   "cell_type": "code",
   "execution_count": 6,
   "metadata": {
    "collapsed": true
   },
   "outputs": [],
   "source": [
    "def get_bold_response(df, method='time_on_task',\n",
    "                      cue_delay=None,\n",
    "                      sample_rate=1000):\n",
    "    \n",
    "    neural_signal = np.zeros((df.onset.max() + 20) * sample_rate)\n",
    "    \n",
    "    hrf = nipy.modalities.fmri.hrf.spm_hrf_compat(np.arange(0, 20, 1./sample_rate))\n",
    "    \n",
    "    for ix, row in df.iterrows():\n",
    "        \n",
    "        if method == 'time_on_task':\n",
    "            start_idx = int(row.onset * sample_rate)\n",
    "            end_idx = int((row.onset + row.rt)*sample_rate)\n",
    "            value = 1\n",
    "            \n",
    "        elif method == 'time_on_task_drift':\n",
    "            start_idx = int(row.onset * sample_rate)\n",
    "            end_idx = int((row.onset + row.rt)*sample_rate)\n",
    "            value = row.drift_t   \n",
    "            \n",
    "        elif method == 'error_monitoring':            \n",
    "            feedback_delay = np.random.choice([.200, .700, 1.200, 1.700])            \n",
    "            start_idx = int((row.onset + row.rt+feedback_delay)*sample_rate)\n",
    "            end_idx = int(start_idx + .35 *sample_rate)            \n",
    "            value =  1.5  - row.accuracy\n",
    "        \n",
    "        if cue_delay is None:        \n",
    "            neural_signal[start_idx:end_idx] = value\n",
    "        else:            \n",
    "            offset = np.random.choice(cue_delay) * sample_rate            \n",
    "            neural_signal[start_idx+offset:end_idx+offset] = value\n",
    "            \n",
    "        \n",
    "    \n",
    "    bold_signal = np.convolve(hrf, neural_signal)\n",
    "    \n",
    "    return neural_signal, bold_signal\n",
    "    \n",
    "    "
   ]
  },
  {
   "cell_type": "code",
   "execution_count": 7,
   "metadata": {
    "collapsed": true
   },
   "outputs": [],
   "source": [
    "sample_rate = 100"
   ]
  },
  {
   "cell_type": "code",
   "execution_count": 32,
   "metadata": {
    "collapsed": true
   },
   "outputs": [],
   "source": [
    "df = pandas.DataFrame({'rt':[2.5/2., 7.5/2., 2.5/2., 7.5/2.],\n",
    "                       'accuracy':[1, 1, 0, 0], \n",
    "                       'onset':np.arange(10, 50, 10)})"
   ]
  },
  {
   "cell_type": "code",
   "execution_count": 33,
   "metadata": {},
   "outputs": [
    {
     "data": {
      "text/html": [
       "<div>\n",
       "<style>\n",
       "    .dataframe thead tr:only-child th {\n",
       "        text-align: right;\n",
       "    }\n",
       "\n",
       "    .dataframe thead th {\n",
       "        text-align: left;\n",
       "    }\n",
       "\n",
       "    .dataframe tbody tr th {\n",
       "        vertical-align: top;\n",
       "    }\n",
       "</style>\n",
       "<table border=\"1\" class=\"dataframe\">\n",
       "  <thead>\n",
       "    <tr style=\"text-align: right;\">\n",
       "      <th></th>\n",
       "      <th>accuracy</th>\n",
       "      <th>onset</th>\n",
       "      <th>rt</th>\n",
       "    </tr>\n",
       "  </thead>\n",
       "  <tbody>\n",
       "    <tr>\n",
       "      <th>0</th>\n",
       "      <td>1</td>\n",
       "      <td>10</td>\n",
       "      <td>1.25</td>\n",
       "    </tr>\n",
       "    <tr>\n",
       "      <th>1</th>\n",
       "      <td>1</td>\n",
       "      <td>20</td>\n",
       "      <td>3.75</td>\n",
       "    </tr>\n",
       "    <tr>\n",
       "      <th>2</th>\n",
       "      <td>0</td>\n",
       "      <td>30</td>\n",
       "      <td>1.25</td>\n",
       "    </tr>\n",
       "    <tr>\n",
       "      <th>3</th>\n",
       "      <td>0</td>\n",
       "      <td>40</td>\n",
       "      <td>3.75</td>\n",
       "    </tr>\n",
       "  </tbody>\n",
       "</table>\n",
       "</div>"
      ],
      "text/plain": [
       "   accuracy  onset    rt\n",
       "0         1     10  1.25\n",
       "1         1     20  3.75\n",
       "2         0     30  1.25\n",
       "3         0     40  3.75"
      ]
     },
     "execution_count": 33,
     "metadata": {},
     "output_type": "execute_result"
    }
   ],
   "source": [
    "df"
   ]
  },
  {
   "cell_type": "code",
   "execution_count": 34,
   "metadata": {
    "collapsed": true
   },
   "outputs": [],
   "source": []
  },
  {
   "cell_type": "code",
   "execution_count": 35,
   "metadata": {
    "collapsed": true
   },
   "outputs": [],
   "source": [
    "import matplotlib.pyplot as plt\n",
    "%matplotlib inline"
   ]
  },
  {
   "cell_type": "code",
   "execution_count": null,
   "metadata": {
    "collapsed": true
   },
   "outputs": [],
   "source": []
  },
  {
   "cell_type": "code",
   "execution_count": 62,
   "metadata": {
    "collapsed": true
   },
   "outputs": [],
   "source": [
    "import seaborn as sns"
   ]
  },
  {
   "cell_type": "code",
   "execution_count": 65,
   "metadata": {
    "collapsed": true
   },
   "outputs": [],
   "source": [
    "sns.set_style('white')"
   ]
  },
  {
   "cell_type": "code",
   "execution_count": 76,
   "metadata": {},
   "outputs": [
    {
     "data": {
      "image/png": "[encoded data removed]",
      "text/plain": [
       "<matplotlib.figure.Figure at 0x11bd254a8>"
      ]
     },
     "metadata": {},
     "output_type": "display_data"
    }
   ],
   "source": [
    "fig, axes = plt.subplots(2, 1, figsize=(10, 10))\n",
    "plt.title('Time-on-task')\n",
    "plt.sca(axes[0])\n",
    "plt.title('Time-on-task')\n",
    "\n",
    "plt.text(1000, 1.25, 'Correct,\\nfast', ha='center')\n",
    "plt.text(2000, 1.25, 'Correct,\\nslow', ha='center')\n",
    "\n",
    "plt.text(3000, 1.25, 'Error,\\nfast', ha='center')\n",
    "plt.text(4000, 1.25, 'Error,\\nslow', ha='center')\n",
    "plt.ylim(0, 1.5)\n",
    "\n",
    "neural_signal, bold_signal = get_bold_response(df, sample_rate=sample_rate)\n",
    "plt.plot(neural_signal, label='neural')\n",
    "\n",
    "ax2 = axes[0].twinx()\n",
    "plt.plot(bold_signal, label='bold', ls='--', color='orange')\n",
    "plt.legend()\n",
    "\n",
    "plt.sca(axes[1])\n",
    "plt.title('Error monitoring')\n",
    "\n",
    "plt.text(1000, 1.5, 'Correct,\\nfast', ha='center')\n",
    "plt.text(2000, 1.5, 'Correct,\\nslow', ha='center')\n",
    "\n",
    "plt.text(3000, 1.5, 'Error,\\nfast', ha='center')\n",
    "plt.text(4000, 1.5, 'Error,\\nslow', ha='center')\n",
    "plt.ylim(0, 2.0)\n",
    "\n",
    "neural_signal, bold_signal = get_bold_response(df, 'error_monitoring', sample_rate=sample_rate)\n",
    "plt.plot(neural_signal, label='neural')\n",
    "\n",
    "plt.plot(bold_signal * 15, label='bold', ls='--', color='orange')\n",
    "\n",
    "\n",
    "\n",
    "plt.plot(neural_signal)\n",
    "\n",
    "plt.savefig('neural_bold.pdf')"
   ]
  },
  {
   "cell_type": "code",
   "execution_count": null,
   "metadata": {
    "collapsed": true
   },
   "outputs": [],
   "source": []
  },
  {
   "cell_type": "code",
   "execution_count": null,
   "metadata": {
    "collapsed": true
   },
   "outputs": [],
   "source": []
  }
 ],
 "metadata": {
  "kernelspec": {
   "display_name": "Python 3",
   "language": "python",
   "name": "python3"
  },
  "language_info": {
   "codemirror_mode": {
    "name": "ipython",
    "version": 3
   },
   "file_extension": ".py",
   "mimetype": "text/x-python",
   "name": "python",
   "nbconvert_exporter": "python",
   "pygments_lexer": "ipython3",
   "version": "3.6.1"
  }
 },
 "nbformat": 4,
 "nbformat_minor": 2
}
